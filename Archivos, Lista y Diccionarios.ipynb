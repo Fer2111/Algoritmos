{
 "cells": [
  {
   "cell_type": "markdown",
   "metadata": {},
   "source": [
    "# Funciones Lambda\n",
    "\n",
    "Las funciones ```lammbda``` es una manera muy sencilla de definir una función en una línea."
   ]
  },
  {
   "cell_type": "code",
   "execution_count": 1,
   "metadata": {},
   "outputs": [],
   "source": [
    " g = lambda x: x**2 + 4"
   ]
  },
  {
   "cell_type": "code",
   "execution_count": 2,
   "metadata": {},
   "outputs": [
    {
     "data": {
      "text/plain": [
       "4"
      ]
     },
     "execution_count": 2,
     "metadata": {},
     "output_type": "execute_result"
    }
   ],
   "source": [
    "g(0)"
   ]
  },
  {
   "cell_type": "code",
   "execution_count": 3,
   "metadata": {},
   "outputs": [],
   "source": [
    "g1 = lambda y: 2*y"
   ]
  },
  {
   "cell_type": "code",
   "execution_count": 4,
   "metadata": {},
   "outputs": [
    {
     "data": {
      "text/plain": [
       "6"
      ]
     },
     "execution_count": 4,
     "metadata": {},
     "output_type": "execute_result"
    }
   ],
   "source": [
    "g1(3)"
   ]
  },
  {
   "cell_type": "markdown",
   "metadata": {},
   "source": [
    "La función anterior es equivalente a la siguiente función:\n",
    "\n",
    "```def f(x):\n",
    "     return x**2 + 4``` "
   ]
  },
  {
   "cell_type": "markdown",
   "metadata": {},
   "source": [
    "Lo anterior es $f(x) = x^2 + 4$\n",
    "\n",
    "\n",
    "\\begin{equation}\n",
    "\\sum_{i=0}^{\\infty}\n",
    "\\end{equation}"
   ]
  },
  {
   "cell_type": "code",
   "execution_count": null,
   "metadata": {},
   "outputs": [],
   "source": []
  },
  {
   "cell_type": "code",
   "execution_count": null,
   "metadata": {},
   "outputs": [],
   "source": [
    "g(3)"
   ]
  },
  {
   "cell_type": "markdown",
   "metadata": {},
   "source": [
    "# Archivos"
   ]
  },
  {
   "cell_type": "markdown",
   "metadata": {},
   "source": [
    "## Creando archivos \n",
    "\n",
    "Ahora supongamos que por alguna razón necesitamos guardar en un archivo los datos creados en nuesgro programa para ellos podemos hacer los siguiente:"
   ]
  },
  {
   "cell_type": "code",
   "execution_count": 9,
   "metadata": {},
   "outputs": [],
   "source": [
    "f = open(\"file.txt\",\"w\") "
   ]
  },
  {
   "cell_type": "markdown",
   "metadata": {},
   "source": [
    "Con el método ```open('name', 'w')```El primer argumento es una cadena que contiene el nombre del archivo. El segundo argumento es otra cadena que contiene algunos caracteres que describen la forma en que se utilizará el archivo. el modo puede ser ```'r'``` cuando el archivo solo se leerá, ```'w'``` solo para escritura (se borrará un archivo existente con el mismo nombre), y ```'a'``` abre el archivo para adjuntarlo; Todos los datos escritos en el archivo se agregan automáticamente al final.```'r +'``` abre el archivo para leer y escribir. El argumento de modo es opcional; Se asumirá ```'r'``` si se omite."
   ]
  },
  {
   "cell_type": "code",
   "execution_count": 10,
   "metadata": {},
   "outputs": [],
   "source": [
    "for i in range(0,10):\n",
    "    f.write(\"This is line %d \\r \\n\" % (i+2))"
   ]
  },
  {
   "cell_type": "code",
   "execution_count": 11,
   "metadata": {},
   "outputs": [],
   "source": [
    "f.close()"
   ]
  },
  {
   "cell_type": "markdown",
   "metadata": {},
   "source": [
    "El fragmento de código anterior genera una lista con valores del $0$ al $9$, en la segunda línea escribe en el archivo la cadena: ```This is line %d \\r \\n\"```. Aquí tenemos un nuevo operador conocido como **pipe**```%```, el cual literal entuba la salida de una variable a una cadena justo en ```%d```. Usamos ```%d``` para entubar ```int```, ```%s``` para ```str```, ```%f``` para ```float```, ```%e``` para ```float``` expresados con notación cientifica ```10e+2```."
   ]
  },
  {
   "cell_type": "code",
   "execution_count": 12,
   "metadata": {},
   "outputs": [
    {
     "name": "stdout",
     "output_type": "stream",
     "text": [
      "el numero tres\n",
      "el numero 3.000000\n",
      "el numero 3\n",
      "el numero 3.000000e+04\n"
     ]
    }
   ],
   "source": [
    "print(\"el numero %s\"  %(\"tres\"))\n",
    "print(\"el numero %f\"  %(3))\n",
    "print(\"el numero %d\"  %(3)) \n",
    "print(\"el numero %e\"  %(3e+4)) "
   ]
  },
  {
   "cell_type": "markdown",
   "metadata": {},
   "source": [
    "Con ```f.close()``` cierra el archivo."
   ]
  },
  {
   "cell_type": "code",
   "execution_count": 13,
   "metadata": {},
   "outputs": [],
   "source": [
    " file = open(\"data1.txt\",\"w\")"
   ]
  },
  {
   "cell_type": "code",
   "execution_count": 14,
   "metadata": {},
   "outputs": [],
   "source": [
    "def diff(f, x, h):\n",
    "    return (f(x + h) - f(x-h))/(2*h)"
   ]
  },
  {
   "cell_type": "code",
   "execution_count": 15,
   "metadata": {},
   "outputs": [],
   "source": [
    "a= diff(g, 1.0, 1e-7)"
   ]
  },
  {
   "cell_type": "code",
   "execution_count": 16,
   "metadata": {},
   "outputs": [
    {
     "data": {
      "text/plain": [
       "2.0000000011677344"
      ]
     },
     "execution_count": 16,
     "metadata": {},
     "output_type": "execute_result"
    }
   ],
   "source": [
    "a"
   ]
  },
  {
   "cell_type": "code",
   "execution_count": null,
   "metadata": {},
   "outputs": [],
   "source": []
  },
  {
   "cell_type": "code",
   "execution_count": 17,
   "metadata": {},
   "outputs": [],
   "source": [
    "i=0.0\n",
    "while i<3:\n",
    "    a = g(i)\n",
    "    b = diff(g,i,1e-7)\n",
    "    file.write(\"%f %f  %f \\n\" %(i,a,b)) \n",
    "    i = i + 0.1"
   ]
  },
  {
   "cell_type": "code",
   "execution_count": 19,
   "metadata": {},
   "outputs": [],
   "source": [
    "file.close()"
   ]
  },
  {
   "cell_type": "code",
   "execution_count": 20,
   "metadata": {},
   "outputs": [],
   "source": [
    "infile = open(\"data1.txt\", \"r\")"
   ]
  },
  {
   "cell_type": "code",
   "execution_count": 21,
   "metadata": {},
   "outputs": [
    {
     "data": {
      "text/plain": [
       "<_io.TextIOWrapper name='data1.txt' mode='r' encoding='UTF-8'>"
      ]
     },
     "execution_count": 21,
     "metadata": {},
     "output_type": "execute_result"
    }
   ],
   "source": [
    "infile"
   ]
  },
  {
   "cell_type": "code",
   "execution_count": 22,
   "metadata": {},
   "outputs": [],
   "source": [
    "lines = []\n",
    "for line in infile:\n",
    "     lines.append(line)"
   ]
  },
  {
   "cell_type": "code",
   "execution_count": 23,
   "metadata": {},
   "outputs": [
    {
     "data": {
      "text/plain": [
       "['0.000000 4.000000  0.000000 \\n',\n",
       " '0.100000 4.010000  0.200000 \\n',\n",
       " '0.200000 4.040000  0.400000 \\n',\n",
       " '0.300000 4.090000  0.600000 \\n',\n",
       " '0.400000 4.160000  0.800000 \\n',\n",
       " '0.500000 4.250000  1.000000 \\n',\n",
       " '0.600000 4.360000  1.200000 \\n',\n",
       " '0.700000 4.490000  1.400000 \\n',\n",
       " '0.800000 4.640000  1.600000 \\n',\n",
       " '0.900000 4.810000  1.800000 \\n',\n",
       " '1.000000 5.000000  2.000000 \\n',\n",
       " '1.100000 5.210000  2.200000 \\n',\n",
       " '1.200000 5.440000  2.400000 \\n',\n",
       " '1.300000 5.690000  2.600000 \\n',\n",
       " '1.400000 5.960000  2.800000 \\n',\n",
       " '1.500000 6.250000  3.000000 \\n',\n",
       " '1.600000 6.560000  3.200000 \\n',\n",
       " '1.700000 6.890000  3.400000 \\n',\n",
       " '1.800000 7.240000  3.600000 \\n',\n",
       " '1.900000 7.610000  3.800000 \\n',\n",
       " '2.000000 8.000000  4.000000 \\n',\n",
       " '2.100000 8.410000  4.200000 \\n',\n",
       " '2.200000 8.840000  4.400000 \\n',\n",
       " '2.300000 9.290000  4.600000 \\n',\n",
       " '2.400000 9.760000  4.800000 \\n',\n",
       " '2.500000 10.250000  5.000000 \\n',\n",
       " '2.600000 10.760000  5.200000 \\n',\n",
       " '2.700000 11.290000  5.400000 \\n',\n",
       " '2.800000 11.840000  5.600000 \\n',\n",
       " '2.900000 12.410000  5.800000 \\n']"
      ]
     },
     "execution_count": 23,
     "metadata": {},
     "output_type": "execute_result"
    }
   ],
   "source": [
    "lines"
   ]
  },
  {
   "cell_type": "code",
   "execution_count": 24,
   "metadata": {},
   "outputs": [],
   "source": [
    "infile.close()"
   ]
  },
  {
   "cell_type": "code",
   "execution_count": 25,
   "metadata": {},
   "outputs": [
    {
     "name": "stdout",
     "output_type": "stream",
     "text": [
      "['0.000000', '4.000000', '0.000000'] <class 'list'>\n",
      "0.0 4.0 0.0\n",
      "['0.100000', '4.010000', '0.200000'] <class 'list'>\n",
      "0.1 4.01 0.2\n",
      "['0.200000', '4.040000', '0.400000'] <class 'list'>\n",
      "0.2 4.04 0.4\n",
      "['0.300000', '4.090000', '0.600000'] <class 'list'>\n",
      "0.3 4.09 0.6\n",
      "['0.400000', '4.160000', '0.800000'] <class 'list'>\n",
      "0.4 4.16 0.8\n",
      "['0.500000', '4.250000', '1.000000'] <class 'list'>\n",
      "0.5 4.25 1.0\n",
      "['0.600000', '4.360000', '1.200000'] <class 'list'>\n",
      "0.6 4.36 1.2\n",
      "['0.700000', '4.490000', '1.400000'] <class 'list'>\n",
      "0.7 4.49 1.4\n",
      "['0.800000', '4.640000', '1.600000'] <class 'list'>\n",
      "0.8 4.64 1.6\n",
      "['0.900000', '4.810000', '1.800000'] <class 'list'>\n",
      "0.9 4.81 1.8\n",
      "['1.000000', '5.000000', '2.000000'] <class 'list'>\n",
      "1.0 5.0 2.0\n",
      "['1.100000', '5.210000', '2.200000'] <class 'list'>\n",
      "1.1 5.21 2.2\n",
      "['1.200000', '5.440000', '2.400000'] <class 'list'>\n",
      "1.2 5.44 2.4\n",
      "['1.300000', '5.690000', '2.600000'] <class 'list'>\n",
      "1.3 5.69 2.6\n",
      "['1.400000', '5.960000', '2.800000'] <class 'list'>\n",
      "1.4 5.96 2.8\n",
      "['1.500000', '6.250000', '3.000000'] <class 'list'>\n",
      "1.5 6.25 3.0\n",
      "['1.600000', '6.560000', '3.200000'] <class 'list'>\n",
      "1.6 6.56 3.2\n",
      "['1.700000', '6.890000', '3.400000'] <class 'list'>\n",
      "1.7 6.89 3.4\n",
      "['1.800000', '7.240000', '3.600000'] <class 'list'>\n",
      "1.8 7.24 3.6\n",
      "['1.900000', '7.610000', '3.800000'] <class 'list'>\n",
      "1.9 7.61 3.8\n",
      "['2.000000', '8.000000', '4.000000'] <class 'list'>\n",
      "2.0 8.0 4.0\n",
      "['2.100000', '8.410000', '4.200000'] <class 'list'>\n",
      "2.1 8.41 4.2\n",
      "['2.200000', '8.840000', '4.400000'] <class 'list'>\n",
      "2.2 8.84 4.4\n",
      "['2.300000', '9.290000', '4.600000'] <class 'list'>\n",
      "2.3 9.29 4.6\n",
      "['2.400000', '9.760000', '4.800000'] <class 'list'>\n",
      "2.4 9.76 4.8\n",
      "['2.500000', '10.250000', '5.000000'] <class 'list'>\n",
      "2.5 10.25 5.0\n",
      "['2.600000', '10.760000', '5.200000'] <class 'list'>\n",
      "2.6 10.76 5.2\n",
      "['2.700000', '11.290000', '5.400000'] <class 'list'>\n",
      "2.7 11.29 5.4\n",
      "['2.800000', '11.840000', '5.600000'] <class 'list'>\n",
      "2.8 11.84 5.6\n",
      "['2.900000', '12.410000', '5.800000'] <class 'list'>\n",
      "2.9 12.41 5.8\n"
     ]
    }
   ],
   "source": [
    "infile = open(\"data1.txt\", \"r\")\n",
    "time, x, xp = [], [], []\n",
    "for line in infile.readlines():\n",
    "    a = line.split()\n",
    "    print(line.split(), type(a))\n",
    "    print(float(a[0]), float(a[1]), float(a[2]))\n",
    "    time.append(float(a[0]))\n",
    "    x.append(float(a[1]))\n",
    "    xp.append(a[2])\n",
    "infile.close()\n",
    "#numbers\n",
    "#mean = sum(numbers)/len(numbers)\n",
    "#print mean"
   ]
  },
  {
   "cell_type": "code",
   "execution_count": 28,
   "metadata": {},
   "outputs": [
    {
     "data": {
      "text/plain": [
       "['0.000000',\n",
       " '0.200000',\n",
       " '0.400000',\n",
       " '0.600000',\n",
       " '0.800000',\n",
       " '1.000000',\n",
       " '1.200000',\n",
       " '1.400000',\n",
       " '1.600000',\n",
       " '1.800000',\n",
       " '2.000000',\n",
       " '2.200000',\n",
       " '2.400000',\n",
       " '2.600000',\n",
       " '2.800000',\n",
       " '3.000000',\n",
       " '3.200000',\n",
       " '3.400000',\n",
       " '3.600000',\n",
       " '3.800000',\n",
       " '4.000000',\n",
       " '4.200000',\n",
       " '4.400000',\n",
       " '4.600000',\n",
       " '4.800000',\n",
       " '5.000000',\n",
       " '5.200000',\n",
       " '5.400000',\n",
       " '5.600000',\n",
       " '5.800000']"
      ]
     },
     "execution_count": 28,
     "metadata": {},
     "output_type": "execute_result"
    }
   ],
   "source": [
    "xp"
   ]
  },
  {
   "cell_type": "code",
   "execution_count": 30,
   "metadata": {},
   "outputs": [],
   "source": [
    "#%matplotlib inline\n",
    "import numpy\n",
    "#import random\n",
    "import matplotlib.pyplot as plt"
   ]
  },
  {
   "cell_type": "code",
   "execution_count": 32,
   "metadata": {},
   "outputs": [
    {
     "data": {
      "text/plain": [
       "[<matplotlib.lines.Line2D at 0x117992b70>]"
      ]
     },
     "execution_count": 32,
     "metadata": {},
     "output_type": "execute_result"
    },
    {
     "data": {
      "image/png": "[encoded data removed]",
      "text/plain": [
       "<Figure size 432x288 with 1 Axes>"
      ]
     },
     "metadata": {
      "needs_background": "light"
     },
     "output_type": "display_data"
    }
   ],
   "source": [
    "#plt.plot(time,x)\n",
    "plt.plot(time,xp)"
   ]
  },
  {
   "cell_type": "markdown",
   "metadata": {},
   "source": [
    "### Diccionarios\n",
    "\n",
    " Un diccionario es un objeto muy flexible para almacenar diversos tipos de información, y en particular al leer archivos. Por lo tanto, es hora de introducir el tipo de diccionario.\n",
    " \n",
    "Una lista es una colección de objetos indexados por un número entero que va de 0 al número de elementos menos uno. En lugar de buscar un elemento a través de un índice de enteros, puede ser más útil usar un texto. En términos generales, una lista donde el índice puede ser un texto se llama diccionario en Python. Otros lenguajes de computadora usan otros nombres para lo mismo: HashMap, hash, array asociativo o mapa."
   ]
  },
  {
   "cell_type": "code",
   "execution_count": 33,
   "metadata": {},
   "outputs": [],
   "source": [
    "temps = {'Oslo': 13, 'London': 15.4, 'Paris': 17.5, 'Madrid': 26.0}"
   ]
  },
  {
   "cell_type": "code",
   "execution_count": 34,
   "metadata": {},
   "outputs": [
    {
     "data": {
      "text/plain": [
       "dict"
      ]
     },
     "execution_count": 34,
     "metadata": {},
     "output_type": "execute_result"
    }
   ],
   "source": [
    "type(temps)"
   ]
  },
  {
   "cell_type": "code",
   "execution_count": 35,
   "metadata": {},
   "outputs": [
    {
     "data": {
      "text/plain": [
       "13"
      ]
     },
     "execution_count": 35,
     "metadata": {},
     "output_type": "execute_result"
    }
   ],
   "source": [
    "temps['Oslo']"
   ]
  },
  {
   "cell_type": "code",
   "execution_count": 36,
   "metadata": {},
   "outputs": [],
   "source": [
    "temps['Oslo']=23"
   ]
  },
  {
   "cell_type": "code",
   "execution_count": 37,
   "metadata": {},
   "outputs": [
    {
     "data": {
      "text/plain": [
       "{'Oslo': 23, 'London': 15.4, 'Paris': 17.5, 'Madrid': 26.0}"
      ]
     },
     "execution_count": 37,
     "metadata": {},
     "output_type": "execute_result"
    }
   ],
   "source": [
    "temps"
   ]
  },
  {
   "cell_type": "code",
   "execution_count": 38,
   "metadata": {},
   "outputs": [
    {
     "data": {
      "text/plain": [
       "{3: 4, 5: 'dd'}"
      ]
     },
     "execution_count": 38,
     "metadata": {},
     "output_type": "execute_result"
    }
   ],
   "source": [
    "dict([(3,4),(5,\"dd\")])"
   ]
  },
  {
   "cell_type": "code",
   "execution_count": 39,
   "metadata": {},
   "outputs": [
    {
     "data": {
      "text/plain": [
       "'La temperatura en Londres es 15.4'"
      ]
     },
     "execution_count": 39,
     "metadata": {},
     "output_type": "execute_result"
    }
   ],
   "source": [
    "\"La temperatura en Londres es \" + str(temps['London'])  "
   ]
  },
  {
   "cell_type": "code",
   "execution_count": 40,
   "metadata": {},
   "outputs": [
    {
     "data": {
      "text/plain": [
       "dict_values([23, 15.4, 17.5, 26.0])"
      ]
     },
     "execution_count": 40,
     "metadata": {},
     "output_type": "execute_result"
    }
   ],
   "source": [
    "temps.values()"
   ]
  },
  {
   "cell_type": "code",
   "execution_count": 41,
   "metadata": {},
   "outputs": [
    {
     "data": {
      "text/plain": [
       "dict_keys(['Oslo', 'London', 'Paris', 'Madrid'])"
      ]
     },
     "execution_count": 41,
     "metadata": {},
     "output_type": "execute_result"
    }
   ],
   "source": [
    "temps.keys()"
   ]
  },
  {
   "cell_type": "code",
   "execution_count": 42,
   "metadata": {},
   "outputs": [
    {
     "data": {
      "text/plain": [
       "dict_items([('Oslo', 23), ('London', 15.4), ('Paris', 17.5), ('Madrid', 26.0)])"
      ]
     },
     "execution_count": 42,
     "metadata": {},
     "output_type": "execute_result"
    }
   ],
   "source": [
    "temps.items()"
   ]
  },
  {
   "cell_type": "code",
   "execution_count": 43,
   "metadata": {},
   "outputs": [
    {
     "name": "stdout",
     "output_type": "stream",
     "text": [
      "The temperature in Oslo is 23\n",
      "The temperature in London is 15.4\n",
      "The temperature in Paris is 17.5\n",
      "The temperature in Madrid is 26\n"
     ]
    }
   ],
   "source": [
    "for city in temps:\n",
    "    print(\"The temperature in %s is %g\" % (city, temps[city]))"
   ]
  },
  {
   "cell_type": "code",
   "execution_count": 44,
   "metadata": {},
   "outputs": [
    {
     "name": "stdout",
     "output_type": "stream",
     "text": [
      "No temperature data for Berlin\n"
     ]
    }
   ],
   "source": [
    "if \"Berlin\" in temps:\n",
    "    print( \"Berlin:\", temps[\"Berlin\"])\n",
    "else:\n",
    "    print(\"No temperature data for Berlin\")"
   ]
  },
  {
   "cell_type": "code",
   "execution_count": 45,
   "metadata": {},
   "outputs": [],
   "source": [
    "del temps[\"Oslo\"]"
   ]
  },
  {
   "cell_type": "code",
   "execution_count": 46,
   "metadata": {},
   "outputs": [
    {
     "data": {
      "text/plain": [
       "{'London': 15.4, 'Paris': 17.5, 'Madrid': 26.0}"
      ]
     },
     "execution_count": 46,
     "metadata": {},
     "output_type": "execute_result"
    }
   ],
   "source": [
    "temps"
   ]
  },
  {
   "cell_type": "markdown",
   "metadata": {},
   "source": [
    "## Ejemplo: Polinomios como Diccionarios\n",
    "\n",
    "\n",
    "Las ***claves*** en un diccionario no están restringidas a ser cadenas. De hecho, cualquier objeto de Python cuyo contenido no pueda cambiarse puede usarse como **clave**. Por ejemplo, podemos usar números enteros como claves en un diccionario. Esta es una forma práctica de representar polinomios, como se explicará a continuación.\n",
    "Considera el polinomio\n",
    "\n",
    "$$p(x) = −1+x^2 +3x^7 .$$"
   ]
  },
  {
   "cell_type": "code",
   "execution_count": 47,
   "metadata": {},
   "outputs": [],
   "source": [
    " p={0:-1, 2:1, 7:3}"
   ]
  },
  {
   "cell_type": "markdown",
   "metadata": {},
   "source": [
    "La siguiente función se puede usar para evaluar un polinomio representado como un diccionario:"
   ]
  },
  {
   "cell_type": "code",
   "execution_count": 48,
   "metadata": {},
   "outputs": [],
   "source": [
    "def poly1(data, x):\n",
    "    sum = 0.0\n",
    "    for power in data:\n",
    "        sum += data[power]*x**power\n",
    "    return sum"
   ]
  },
  {
   "cell_type": "code",
   "execution_count": 49,
   "metadata": {},
   "outputs": [
    {
     "data": {
      "text/plain": [
       "-3.0"
      ]
     },
     "execution_count": 49,
     "metadata": {},
     "output_type": "execute_result"
    }
   ],
   "source": [
    "poly1(p, -1)"
   ]
  },
  {
   "cell_type": "code",
   "execution_count": 50,
   "metadata": {},
   "outputs": [],
   "source": [
    "def poly2(data, x):\n",
    "    return sum([data[p]*x**p for p in data])"
   ]
  },
  {
   "cell_type": "code",
   "execution_count": 51,
   "metadata": {},
   "outputs": [
    {
     "data": {
      "text/plain": [
       "-3"
      ]
     },
     "execution_count": 51,
     "metadata": {},
     "output_type": "execute_result"
    }
   ],
   "source": [
    "poly2(p, -1)"
   ]
  },
  {
   "cell_type": "code",
   "execution_count": null,
   "metadata": {},
   "outputs": [],
   "source": [
    "spam = {12345: 'Luggage Combination', 42: 'The Answer'}"
   ]
  },
  {
   "cell_type": "markdown",
   "metadata": {},
   "source": [
    "## Diccionario vs Listas "
   ]
  },
  {
   "cell_type": "code",
   "execution_count": 52,
   "metadata": {},
   "outputs": [
    {
     "data": {
      "text/plain": [
       "False"
      ]
     },
     "execution_count": 52,
     "metadata": {},
     "output_type": "execute_result"
    }
   ],
   "source": [
    "spam = ['cats', 'dogs', 'moose']\n",
    "bacon = ['dogs', 'moose', 'cats']\n",
    "spam == bacon"
   ]
  },
  {
   "cell_type": "code",
   "execution_count": 53,
   "metadata": {},
   "outputs": [
    {
     "data": {
      "text/plain": [
       "True"
      ]
     },
     "execution_count": 53,
     "metadata": {},
     "output_type": "execute_result"
    }
   ],
   "source": [
    "eggs = {'name': 'Zophie', 'species': 'cat', 'age': '8'}\n",
    "ham = {'species': 'cat', 'age': '8', 'name': 'Zophie'}\n",
    "eggs == ham"
   ]
  },
  {
   "cell_type": "code",
   "execution_count": 54,
   "metadata": {},
   "outputs": [
    {
     "data": {
      "text/plain": [
       "dict_items([('name', 'Zophie'), ('species', 'cat'), ('age', '8')])"
      ]
     },
     "execution_count": 54,
     "metadata": {},
     "output_type": "execute_result"
    }
   ],
   "source": [
    "eggs.items()"
   ]
  },
  {
   "cell_type": "code",
   "execution_count": 56,
   "metadata": {},
   "outputs": [
    {
     "name": "stdout",
     "output_type": "stream",
     "text": [
      "color\n",
      "age\n"
     ]
    }
   ],
   "source": [
    "spam = {'color': 'red', 'age': 42}\n",
    "for v in spam.keys():\n",
    "    print(v)"
   ]
  },
  {
   "cell_type": "code",
   "execution_count": 57,
   "metadata": {},
   "outputs": [],
   "source": [
    "def read_densities(filename):\n",
    "    infile = open(filename, 'r')\n",
    "    densities = {}\n",
    "    for line in infile:\n",
    "        words = line.split()\n",
    "        density = float(words[-1])\n",
    "        if len(words[:-1]) == 2:\n",
    "            substance = words[0] + ' ' + words[1]\n",
    "        else:\n",
    "            substance = words[0]\n",
    "        densities[substance] = density\n",
    "    infile.close()\n",
    "    return densities"
   ]
  },
  {
   "cell_type": "code",
   "execution_count": 58,
   "metadata": {},
   "outputs": [],
   "source": [
    "densities = read_densities('densities.txt')"
   ]
  },
  {
   "cell_type": "code",
   "execution_count": 59,
   "metadata": {},
   "outputs": [
    {
     "data": {
      "text/plain": [
       "{'air': 0.0012,\n",
       " 'gasoline': 0.67,\n",
       " 'ice': 0.9,\n",
       " 'pure water': 1.0,\n",
       " 'seawater': 1.025,\n",
       " 'human body': 1.03,\n",
       " 'limestone': 2.6,\n",
       " 'granite': 2.7,\n",
       " 'iron': 7.8,\n",
       " 'silver': 10.5,\n",
       " 'mercury': 13.6,\n",
       " 'gold': 18.9,\n",
       " 'platinium': 21.4,\n",
       " 'Earth mean': 5.52,\n",
       " 'Earth core': 13.0,\n",
       " 'Moon': 3.3,\n",
       " 'Sun mean': 1.4,\n",
       " 'Sun core': 160.0,\n",
       " 'proton': 280000000000000.0}"
      ]
     },
     "execution_count": 59,
     "metadata": {},
     "output_type": "execute_result"
    }
   ],
   "source": [
    "densities"
   ]
  },
  {
   "cell_type": "code",
   "execution_count": 60,
   "metadata": {},
   "outputs": [
    {
     "data": {
      "text/plain": [
       "280000000000000.0"
      ]
     },
     "execution_count": 60,
     "metadata": {},
     "output_type": "execute_result"
    }
   ],
   "source": [
    "densities['proton']"
   ]
  },
  {
   "cell_type": "code",
   "execution_count": null,
   "metadata": {},
   "outputs": [],
   "source": []
  }
 ],
 "metadata": {
  "kernelspec": {
   "display_name": "Python 3",
   "language": "python",
   "name": "python3"
  },
  "language_info": {
   "codemirror_mode": {
    "name": "ipython",
    "version": 3
   },
   "file_extension": ".py",
   "mimetype": "text/x-python",
   "name": "python",
   "nbconvert_exporter": "python",
   "pygments_lexer": "ipython3",
   "version": "3.6.5"
  }
 },
 "nbformat": 4,
 "nbformat_minor": 2
}
